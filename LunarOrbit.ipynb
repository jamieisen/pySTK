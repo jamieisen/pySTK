{
 "cells": [
  {
   "cell_type": "code",
   "execution_count": 4,
   "id": "0d32b479",
   "metadata": {},
   "outputs": [],
   "source": [
    "# Inclination Change Using Targeter\n",
    "from AstroSat import *\n",
    "from pySTK import *\n",
    "\n",
    "# Initialize Scenario\n",
    "stk = pySTK()\n",
    "root = stk.Root()\n",
    "startEpoch = '11 Oct 2024 00:00:00.000'\n",
    "test = stk.Scenario('test',startEpoch,'+1yr')\n",
    "\n",
    "sat = AstroSat('sat1',test,root)\n",
    "#Sequence\n",
    "LunarSequence = sat.insertTargetSequence('LunarSequence','-')\n",
    "#Launch\n",
    "sat.Launch('create','launchseg','-','11 Oct 2024 00:00:000.00')\n",
    "launchseg = sat.insertSegmentToSequenceByName(LunarSequence,'launchseg')\n",
    "sat.enableLaunchEpoch(LunarSequence,'launchseg',launchseg)\n",
    "#Coast\n",
    "sat.PropagateDuration('create','Coast','-',5400,'Earth HPOP Default v10')\n",
    "Coast = sat.insertSegmentToSequenceByName(LunarSequence,'Coast')\n",
    "sat.enableDurationControl(LunarSequence,'Coast',Coast)\n",
    "#TransLunar\n",
    "sat.Maneuver('create','TransLunarInjection','-','Impulsive','Thrust Vector','Satellite VNC(Earth)')\n",
    "TransLunarInjection= sat.insertSegmentToSequenceByName(LunarSequence,'TransLunarInjection')\n",
    "sat.editManeuverThrust(TransLunarInjection,3120,0,0)\n",
    "#ToSwingBy\n",
    "sat.PropagateRmag('create','ToSwingBy','-','Earth','CisLunar',300000)\n",
    "ToSwingBy = sat.insertSegmentToSequenceByName(LunarSequence,'ToSwingBy')\n",
    "#ToPeriselene\n",
    "ToPeriselene = sat.PropagateDuration('insert','ToPeriselene','-',864000,'CisLunar')\n",
    "sat.addAltitudeToPropagate(ToPeriselene,'ToPeriselene','Moon',0)\n",
    "sat.addPeriapsisToPropagate(ToPeriselene,'ToPeriselene','Moon')\n",
    "sat.removeSegment('ToPeriselene')\n",
    "ToPeriselene2 = sat.insertSegmentToSequenceByName(LunarSequence,'ToPeriselene2')\n",
    "#sat.addDeltaDeclinationResult(ToPeriselene2,'ToPeriselene2',LunarSequence)\n",
    "#sat.addDeltaRightAscResult(ToPeriselene2,'ToPeriselene2',LunarSequence)\n",
    "\n",
    "sat.bplane()\n",
    "sat.addBDotRResult(ToPeriselene2,'ToPeriselene2',LunarSequence,5000)\n",
    "sat.addBDotTResult(ToPeriselene2,'ToPeriselene2',LunarSequence,0)\n",
    "\n",
    "LunarOrbit = sat.insertTargetSequence('LunarOrbit','-')\n",
    "sat.Maneuver('create','LOI','-','Impulsive','Thrust Vector','Satellite VNC(Moon)')\n",
    "LOI = sat.insertSegmentToSequenceByName(LunarOrbit,'LOI')\n",
    "sat.enableManeuverControl(LunarOrbit,'LOI',LOI,'x')\n",
    "sat.addManeuverEccentricityResult(LOI,'LOI',LunarOrbit,'Moon',0)\n",
    "\n",
    "sat.PropagateDuration('insert','Prop3Days','-',86400*3,'Moon HPOP Default v10')\n",
    "\n",
    "sat.runMCS()\n",
    "sat.runMCS()\n",
    "sat.runMCS()\n",
    "sat.runMCS()\n",
    "\n",
    "stk.ManeuverSummary('sat1','C:\\\\Users\\\\jamie\\\\Desktop\\\\pySTK-Jupy\\\\LunarOrbit.txt')"
   ]
  },
  {
   "cell_type": "code",
   "execution_count": 3,
   "id": "0361fa35",
   "metadata": {},
   "outputs": [
    {
     "name": "stdout",
     "output_type": "stream",
     "text": [
      "                                                                                                                                                                                                                               14 May 2021 09:43:25\n",
      "\n",
      "FOR UNFUNDED EDUCATIONAL USE ONLY\n",
      "\n",
      "Satellite-sat1\n",
      "\n",
      "\n",
      "\n",
      "\n",
      "\n",
      "                                        Maneuver Number                 Segment                     Start Time (UTCG)           Stop Time (UTCG)        Duration (sec)    Est./Act. Finite Burn Duration (sec)    Delta V (m/sec)    Fuel Used (kg)\n",
      "\n",
      "                                        ---------------    ---------------------------------    ------------------------    ------------------------    --------------    ------------------------------------    ---------------    --------------\n",
      "\n",
      "                                                      1    LunarSequence.TransLunarInjection    10 Oct 2024 12:16:57.689    10 Oct 2024 12:16:57.689             0.000                                3846.476        3120.000000           653.719\n",
      "\n",
      "                                                      2    LunarOrbit.LOI                       20 Oct 2024 04:02:32.730    20 Oct 2024 04:02:32.730             0.000                                1509.735         872.298061           256.583\n",
      "\n",
      "\n",
      "\n",
      "Global Statistics\n",
      "\n",
      "-----------------\n",
      "\n",
      "Total Duration                                                                                                                                                   0.000                                                                             \n",
      "\n",
      "Total Est./Act. Finite Burn Duration                                                                                                                                                                  5356.211                                     \n",
      "\n",
      "Total Delta V                                                                                                                                                                                                         3992.298061                  \n",
      "\n",
      "Total Fuel Used                                                                                                                                                                                                                             910.303\n",
      "\n"
     ]
    }
   ],
   "source": [
    "file = open('C:\\\\Users\\\\jamie\\\\Desktop\\\\pySTK-Jupy\\\\LunarOrbit.txt')\n",
    "lines = file.readlines()\n",
    "for line in lines:\n",
    "    print(line)"
   ]
  },
  {
   "cell_type": "code",
   "execution_count": null,
   "id": "3f3a9919",
   "metadata": {},
   "outputs": [],
   "source": []
  }
 ],
 "metadata": {
  "kernelspec": {
   "display_name": "Python 3",
   "language": "python",
   "name": "python3"
  },
  "language_info": {
   "codemirror_mode": {
    "name": "ipython",
    "version": 3
   },
   "file_extension": ".py",
   "mimetype": "text/x-python",
   "name": "python",
   "nbconvert_exporter": "python",
   "pygments_lexer": "ipython3",
   "version": "3.9.5"
  }
 },
 "nbformat": 4,
 "nbformat_minor": 5
}
